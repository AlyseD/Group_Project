{
 "cells": [
  {
   "cell_type": "code",
   "execution_count": 1,
   "metadata": {},
   "outputs": [
    {
     "name": "stdout",
     "output_type": "stream",
     "text": [
      "\u001b[31mERROR: Could not find a version that satisfies the requirement psycopg (from versions: none)\u001b[0m\r\n",
      "\u001b[31mERROR: No matching distribution found for psycopg\u001b[0m\r\n"
     ]
    }
   ],
   "source": [
    "!pip install psycopg"
   ]
  },
  {
   "cell_type": "code",
   "execution_count": 11,
   "metadata": {},
   "outputs": [],
   "source": [
    "import warnings\n",
    "warnings.filterwarnings('ignore')\n",
    "import pandas as pd\n",
    "import matplotlib.pyplot as plt\n",
    "#from imblearn.over_sampling import RandomOverSampler\n",
    "from sklearn.model_selection import train_test_split\n",
    "from sklearn.tree import DecisionTreeClassifier\n",
    "from sklearn.metrics import accuracy_score\n",
    "import seaborn as sns\n",
    "import matplotlib.pyplot as plt"
   ]
  },
  {
   "cell_type": "code",
   "execution_count": 12,
   "metadata": {},
   "outputs": [],
   "source": [
    "#Columns to use according to ERD\n",
    "#columns = ['Source','Severity', 'Start_Time', 'End_Time','Start_Lat', 'Sunrise_Sunset', 'Start_Lng','Side', 'City', 'County',\n",
    "          #'Visibility(mi)', 'Wind_Direction', 'Wind_Speed(mph)','Bump', 'Crossing',\n",
    "       #'Give_Way', 'Junction', 'No_Exit', 'Railway', 'Roundabout', 'Station',\n",
    "       #'Stop', 'Traffic_Calming', 'Traffic_Signal', 'Turning_Loop', 'Weather_Condition']"
   ]
  },
  {
   "cell_type": "code",
   "execution_count": 13,
   "metadata": {},
   "outputs": [],
   "source": [
    "#Columns to use according to ERD\n",
    "columns = ['Source','Severity', 'Start_Time', 'End_Time','Start_Lat', 'Sunrise_Sunset', 'Start_Lng', 'Weather_Condition']"
   ]
  },
  {
   "cell_type": "code",
   "execution_count": null,
   "metadata": {},
   "outputs": [],
   "source": [
    "#Reading csv data into df\n",
    "df = pd.read_csv('US_Accidents_June20.csv', usecols = columns)\n",
    "df.head()"
   ]
  },
  {
   "cell_type": "code",
   "execution_count": 6,
   "metadata": {},
   "outputs": [
    {
     "data": {
      "text/plain": [
       "0"
      ]
     },
     "execution_count": 6,
     "metadata": {},
     "output_type": "execute_result"
    }
   ],
   "source": [
    "#Drop null values, subject to change\n",
    "df.dropna(axis=0,inplace=True)\n",
    "df.isnull().sum().sum()"
   ]
  },
  {
   "cell_type": "code",
   "execution_count": 7,
   "metadata": {},
   "outputs": [],
   "source": [
    "#Labelling output and input, subject to change\n",
    "y = df['Severity']\n",
    "X = df.drop(['Severity','Start_Time','End_Time','City','County','Bump', 'Crossing',\n",
    "       'Give_Way', 'Junction', 'No_Exit', 'Railway', 'Roundabout', 'Station',\n",
    "       'Stop', 'Traffic_Calming', 'Traffic_Signal', 'Turning_Loop'],axis=1)"
   ]
  },
  {
   "cell_type": "code",
   "execution_count": 8,
   "metadata": {},
   "outputs": [
    {
     "data": {
      "text/plain": [
       "(3042201, 9)"
      ]
     },
     "execution_count": 8,
     "metadata": {},
     "output_type": "execute_result"
    }
   ],
   "source": [
    "X.shape"
   ]
  },
  {
   "cell_type": "code",
   "execution_count": 9,
   "metadata": {},
   "outputs": [
    {
     "data": {
      "text/plain": [
       "<bound method NDFrame.head of          Start_Lat   Start_Lng  Visibility(mi)  Wind_Speed(mph)  Source_Bing  \\\n",
       "2        39.063148  -84.032608            10.0              3.5            0   \n",
       "3        39.747753  -84.205582             9.0              4.6            0   \n",
       "4        39.627781  -84.188354             6.0              3.5            0   \n",
       "5        40.100590  -82.925194             7.0              3.5            0   \n",
       "6        39.758274  -84.230507             7.0              3.5            0   \n",
       "...            ...         ...             ...              ...          ...   \n",
       "3513612  34.002480 -117.379360            10.0             13.0            1   \n",
       "3513613  32.766960 -117.148060            10.0              6.0            1   \n",
       "3513614  33.775450 -117.847790            10.0             10.0            1   \n",
       "3513615  33.992460 -118.403020            10.0              8.0            1   \n",
       "3513616  34.133930 -117.230920             7.0              7.0            1   \n",
       "\n",
       "         Source_MapQuest  Source_MapQuest-Bing  Side_   Side_L  Side_R  ...  \\\n",
       "2                      1                     0       0       0       1  ...   \n",
       "3                      1                     0       0       0       1  ...   \n",
       "4                      1                     0       0       0       1  ...   \n",
       "5                      1                     0       0       0       1  ...   \n",
       "6                      1                     0       0       0       1  ...   \n",
       "...                  ...                   ...     ...     ...     ...  ...   \n",
       "3513612                0                     0       0       0       1  ...   \n",
       "3513613                0                     0       0       0       1  ...   \n",
       "3513614                0                     0       0       0       1  ...   \n",
       "3513615                0                     0       0       0       1  ...   \n",
       "3513616                0                     0       0       0       1  ...   \n",
       "\n",
       "         Weather_Condition_Thunderstorm  \\\n",
       "2                                     0   \n",
       "3                                     0   \n",
       "4                                     0   \n",
       "5                                     0   \n",
       "6                                     0   \n",
       "...                                 ...   \n",
       "3513612                               0   \n",
       "3513613                               0   \n",
       "3513614                               0   \n",
       "3513615                               0   \n",
       "3513616                               0   \n",
       "\n",
       "         Weather_Condition_Thunderstorms and Rain  \\\n",
       "2                                               0   \n",
       "3                                               0   \n",
       "4                                               0   \n",
       "5                                               0   \n",
       "6                                               0   \n",
       "...                                           ...   \n",
       "3513612                                         0   \n",
       "3513613                                         0   \n",
       "3513614                                         0   \n",
       "3513615                                         0   \n",
       "3513616                                         0   \n",
       "\n",
       "         Weather_Condition_Thunderstorms and Snow  Weather_Condition_Tornado  \\\n",
       "2                                               0                          0   \n",
       "3                                               0                          0   \n",
       "4                                               0                          0   \n",
       "5                                               0                          0   \n",
       "6                                               0                          0   \n",
       "...                                           ...                        ...   \n",
       "3513612                                         0                          0   \n",
       "3513613                                         0                          0   \n",
       "3513614                                         0                          0   \n",
       "3513615                                         0                          0   \n",
       "3513616                                         0                          0   \n",
       "\n",
       "         Weather_Condition_Widespread Dust  \\\n",
       "2                                        0   \n",
       "3                                        0   \n",
       "4                                        0   \n",
       "5                                        0   \n",
       "6                                        0   \n",
       "...                                    ...   \n",
       "3513612                                  0   \n",
       "3513613                                  0   \n",
       "3513614                                  0   \n",
       "3513615                                  0   \n",
       "3513616                                  0   \n",
       "\n",
       "         Weather_Condition_Widespread Dust / Windy  \\\n",
       "2                                                0   \n",
       "3                                                0   \n",
       "4                                                0   \n",
       "5                                                0   \n",
       "6                                                0   \n",
       "...                                            ...   \n",
       "3513612                                          0   \n",
       "3513613                                          0   \n",
       "3513614                                          0   \n",
       "3513615                                          0   \n",
       "3513616                                          0   \n",
       "\n",
       "         Weather_Condition_Wintry Mix  Weather_Condition_Wintry Mix / Windy  \\\n",
       "2                                   0                                     0   \n",
       "3                                   0                                     0   \n",
       "4                                   0                                     0   \n",
       "5                                   0                                     0   \n",
       "6                                   0                                     0   \n",
       "...                               ...                                   ...   \n",
       "3513612                             0                                     0   \n",
       "3513613                             0                                     0   \n",
       "3513614                             0                                     0   \n",
       "3513615                             0                                     0   \n",
       "3513616                             0                                     0   \n",
       "\n",
       "         Sunrise_Sunset_Day  Sunrise_Sunset_Night  \n",
       "2                         0                     1  \n",
       "3                         0                     1  \n",
       "4                         1                     0  \n",
       "5                         1                     0  \n",
       "6                         1                     0  \n",
       "...                     ...                   ...  \n",
       "3513612                   1                     0  \n",
       "3513613                   1                     0  \n",
       "3513614                   1                     0  \n",
       "3513615                   1                     0  \n",
       "3513616                   1                     0  \n",
       "\n",
       "[3042201 rows x 160 columns]>"
      ]
     },
     "execution_count": 9,
     "metadata": {},
     "output_type": "execute_result"
    }
   ],
   "source": [
    "#Use dummy variables for input features, convert to numerical data \n",
    "X = pd.get_dummies(X)\n",
    "X.head"
   ]
  },
  {
   "cell_type": "code",
   "execution_count": 10,
   "metadata": {},
   "outputs": [
    {
     "data": {
      "image/png": "[encoded data removed]",
      "text/plain": [
       "<Figure size 1080x576 with 2 Axes>"
      ]
     },
     "metadata": {
      "needs_background": "light"
     },
     "output_type": "display_data"
    }
   ],
   "source": [
    "# Correlation plot\n",
    "plt.figure(figsize=(15,8))\n",
    "corr = df.corr()\n",
    "ax = sns.heatmap(\n",
    "    corr, \n",
    "    vmin=-1, vmax=1, center=0,\n",
    "    cmap=sns.diverging_palette(20, 220, n=200),\n",
    "    square=True\n",
    ")\n",
    "plt.title(\"Correlation Plot\")\n",
    "ax.set_xticklabels(\n",
    "    ax.get_xticklabels(),\n",
    "    rotation=45,\n",
    "    horizontalalignment='right'\n",
    ");"
   ]
  },
  {
   "cell_type": "code",
   "execution_count": 10,
   "metadata": {},
   "outputs": [
    {
     "name": "stdout",
     "output_type": "stream",
     "text": [
      "[(1, 600796), (2, 600796), (3, 600796), (4, 600796)]\n"
     ]
    }
   ],
   "source": [
    "#Balancing the dataset\n",
    "ros = RandomOverSampler(random_state=0)\n",
    "X_resampled, y_resampled = ros.fit_resample(X, y)\n",
    "from collections import Counter\n",
    "print(sorted(Counter(y_resampled).items()))"
   ]
  },
  {
   "cell_type": "code",
   "execution_count": 11,
   "metadata": {},
   "outputs": [],
   "source": [
    "#splitting the data into training and test datasets \n",
    "X_train,X_test,y_train,y_test = train_test_split(X_resampled,y_resampled,test_size=0.3, random_state=42)"
   ]
  },
  {
   "cell_type": "code",
   "execution_count": 12,
   "metadata": {},
   "outputs": [],
   "source": [
    "#Decision Tree Classifier model on training data and predictions\n",
    "model = DecisionTreeClassifier()\n",
    "model.fit(X_train,y_train)\n",
    "y_pred = model.predict(X_test)"
   ]
  },
  {
   "cell_type": "code",
   "execution_count": 13,
   "metadata": {},
   "outputs": [
    {
     "data": {
      "text/plain": [
       "0.9448412940595543"
      ]
     },
     "execution_count": 13,
     "metadata": {},
     "output_type": "execute_result"
    }
   ],
   "source": [
    "# Accuracy \n",
    "accuracy = accuracy_score(y_test,y_pred)\n",
    "accuracy"
   ]
  },
  {
   "cell_type": "code",
   "execution_count": 14,
   "metadata": {},
   "outputs": [
    {
     "name": "stdout",
     "output_type": "stream",
     "text": [
      "              precision    recall  f1-score   support\n",
      "\n",
      "           1       1.00      1.00      1.00    180111\n",
      "           2       0.92      0.85      0.89    180121\n",
      "           3       0.87      0.93      0.90    180299\n",
      "           4       0.99      1.00      1.00    180425\n",
      "\n",
      "    accuracy                           0.94    720956\n",
      "   macro avg       0.95      0.94      0.94    720956\n",
      "weighted avg       0.95      0.94      0.94    720956\n",
      "\n"
     ]
    }
   ],
   "source": [
    "#Classification report\n",
    "from sklearn.metrics import classification_report\n",
    "report = classification_report(y_test,y_pred)\n",
    "print(report)"
   ]
  },
  {
   "cell_type": "code",
   "execution_count": 16,
   "metadata": {},
   "outputs": [
    {
     "data": {
      "text/plain": [
       "array([[0.19744039, 0.31821236, 0.31939709, 0.16495016],\n",
       "       [0.23994495, 0.27453894, 0.3544178 , 0.13109831],\n",
       "       [0.18017382, 0.26159216, 0.33424999, 0.22398403],\n",
       "       ...,\n",
       "       [0.16893854, 0.26837707, 0.30522156, 0.25746283],\n",
       "       [0.09765074, 0.15717432, 0.19055462, 0.55462032],\n",
       "       [0.17459792, 0.18209259, 0.29575598, 0.3475535 ]])"
      ]
     },
     "execution_count": 16,
     "metadata": {},
     "output_type": "execute_result"
    }
   ],
   "source": [
    "from sklearn.linear_model import LogisticRegression\n",
    "lr = LogisticRegression()\n",
    "lr.fit(X_train,y_train)\n",
    "y_pred = lr.predict_proba(X_test)\n",
    "y_pred"
   ]
  }
 ],
 "metadata": {
  "kernelspec": {
   "display_name": "Python 3",
   "language": "python",
   "name": "python3"
  },
  "language_info": {
   "codemirror_mode": {
    "name": "ipython",
    "version": 3
   },
   "file_extension": ".py",
   "mimetype": "text/x-python",
   "name": "python",
   "nbconvert_exporter": "python",
   "pygments_lexer": "ipython3",
   "version": "3.8.5"
  }
 },
 "nbformat": 4,
 "nbformat_minor": 4
}
