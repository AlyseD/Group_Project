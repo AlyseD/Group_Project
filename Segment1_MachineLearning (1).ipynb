{
 "cells": [
  {
   "cell_type": "code",
   "execution_count": 43,
   "metadata": {},
   "outputs": [
    {
     "name": "stdout",
     "output_type": "stream",
     "text": [
      "\u001b[31mERROR: Could not find a version that satisfies the requirement psycopg (from versions: none)\u001b[0m\r\n",
      "\u001b[31mERROR: No matching distribution found for psycopg\u001b[0m\r\n"
     ]
    }
   ],
   "source": [
    "!pip install psycopg"
   ]
  },
  {
   "cell_type": "code",
   "execution_count": 44,
   "metadata": {},
   "outputs": [],
   "source": [
    "import warnings\n",
    "warnings.filterwarnings('ignore')\n",
    "import pandas as pd\n",
    "import matplotlib.pyplot as plt\n",
    "from imblearn.over_sampling import RandomOverSampler\n",
    "from sklearn.model_selection import train_test_split\n",
    "from sklearn.tree import DecisionTreeClassifier\n",
    "from sklearn.metrics import accuracy_score"
   ]
  },
  {
   "cell_type": "code",
   "execution_count": 45,
   "metadata": {},
   "outputs": [],
   "source": [
    "#Columns to use according to ERD\n",
    "columns = ['Source','Severity', 'Start_Time', 'End_Time','Start_Lat', 'Sunrise_Sunset', 'Start_Lng','Side', 'City', 'County',\n",
    "          'Visibility(mi)', 'Wind_Direction', 'Wind_Speed(mph)','Bump', 'Crossing',\n",
    "       'Give_Way', 'Junction', 'No_Exit', 'Railway', 'Roundabout', 'Station',\n",
    "       'Stop', 'Traffic_Calming', 'Traffic_Signal', 'Turning_Loop', 'Weather_Condition']"
   ]
  },
  {
   "cell_type": "code",
   "execution_count": 46,
   "metadata": {},
   "outputs": [
    {
     "data": {
      "text/html": [
       "<div>\n",
       "<style scoped>\n",
       "    .dataframe tbody tr th:only-of-type {\n",
       "        vertical-align: middle;\n",
       "    }\n",
       "\n",
       "    .dataframe tbody tr th {\n",
       "        vertical-align: top;\n",
       "    }\n",
       "\n",
       "    .dataframe thead th {\n",
       "        text-align: right;\n",
       "    }\n",
       "</style>\n",
       "<table border=\"1\" class=\"dataframe\">\n",
       "  <thead>\n",
       "    <tr style=\"text-align: right;\">\n",
       "      <th></th>\n",
       "      <th>Source</th>\n",
       "      <th>Severity</th>\n",
       "      <th>Start_Time</th>\n",
       "      <th>End_Time</th>\n",
       "      <th>Start_Lat</th>\n",
       "      <th>Start_Lng</th>\n",
       "      <th>Side</th>\n",
       "      <th>City</th>\n",
       "      <th>County</th>\n",
       "      <th>Visibility(mi)</th>\n",
       "      <th>...</th>\n",
       "      <th>Junction</th>\n",
       "      <th>No_Exit</th>\n",
       "      <th>Railway</th>\n",
       "      <th>Roundabout</th>\n",
       "      <th>Station</th>\n",
       "      <th>Stop</th>\n",
       "      <th>Traffic_Calming</th>\n",
       "      <th>Traffic_Signal</th>\n",
       "      <th>Turning_Loop</th>\n",
       "      <th>Sunrise_Sunset</th>\n",
       "    </tr>\n",
       "  </thead>\n",
       "  <tbody>\n",
       "    <tr>\n",
       "      <th>0</th>\n",
       "      <td>MapQuest</td>\n",
       "      <td>3</td>\n",
       "      <td>2016-02-08 05:46:00</td>\n",
       "      <td>2016-02-08 11:00:00</td>\n",
       "      <td>39.865147</td>\n",
       "      <td>-84.058723</td>\n",
       "      <td>R</td>\n",
       "      <td>Dayton</td>\n",
       "      <td>Montgomery</td>\n",
       "      <td>10.0</td>\n",
       "      <td>...</td>\n",
       "      <td>False</td>\n",
       "      <td>False</td>\n",
       "      <td>False</td>\n",
       "      <td>False</td>\n",
       "      <td>False</td>\n",
       "      <td>False</td>\n",
       "      <td>False</td>\n",
       "      <td>False</td>\n",
       "      <td>False</td>\n",
       "      <td>Night</td>\n",
       "    </tr>\n",
       "    <tr>\n",
       "      <th>1</th>\n",
       "      <td>MapQuest</td>\n",
       "      <td>2</td>\n",
       "      <td>2016-02-08 06:07:59</td>\n",
       "      <td>2016-02-08 06:37:59</td>\n",
       "      <td>39.928059</td>\n",
       "      <td>-82.831184</td>\n",
       "      <td>L</td>\n",
       "      <td>Reynoldsburg</td>\n",
       "      <td>Franklin</td>\n",
       "      <td>10.0</td>\n",
       "      <td>...</td>\n",
       "      <td>False</td>\n",
       "      <td>False</td>\n",
       "      <td>False</td>\n",
       "      <td>False</td>\n",
       "      <td>False</td>\n",
       "      <td>False</td>\n",
       "      <td>False</td>\n",
       "      <td>False</td>\n",
       "      <td>False</td>\n",
       "      <td>Night</td>\n",
       "    </tr>\n",
       "    <tr>\n",
       "      <th>2</th>\n",
       "      <td>MapQuest</td>\n",
       "      <td>2</td>\n",
       "      <td>2016-02-08 06:49:27</td>\n",
       "      <td>2016-02-08 07:19:27</td>\n",
       "      <td>39.063148</td>\n",
       "      <td>-84.032608</td>\n",
       "      <td>R</td>\n",
       "      <td>Williamsburg</td>\n",
       "      <td>Clermont</td>\n",
       "      <td>10.0</td>\n",
       "      <td>...</td>\n",
       "      <td>False</td>\n",
       "      <td>False</td>\n",
       "      <td>False</td>\n",
       "      <td>False</td>\n",
       "      <td>False</td>\n",
       "      <td>False</td>\n",
       "      <td>False</td>\n",
       "      <td>True</td>\n",
       "      <td>False</td>\n",
       "      <td>Night</td>\n",
       "    </tr>\n",
       "    <tr>\n",
       "      <th>3</th>\n",
       "      <td>MapQuest</td>\n",
       "      <td>3</td>\n",
       "      <td>2016-02-08 07:23:34</td>\n",
       "      <td>2016-02-08 07:53:34</td>\n",
       "      <td>39.747753</td>\n",
       "      <td>-84.205582</td>\n",
       "      <td>R</td>\n",
       "      <td>Dayton</td>\n",
       "      <td>Montgomery</td>\n",
       "      <td>9.0</td>\n",
       "      <td>...</td>\n",
       "      <td>False</td>\n",
       "      <td>False</td>\n",
       "      <td>False</td>\n",
       "      <td>False</td>\n",
       "      <td>False</td>\n",
       "      <td>False</td>\n",
       "      <td>False</td>\n",
       "      <td>False</td>\n",
       "      <td>False</td>\n",
       "      <td>Night</td>\n",
       "    </tr>\n",
       "    <tr>\n",
       "      <th>4</th>\n",
       "      <td>MapQuest</td>\n",
       "      <td>2</td>\n",
       "      <td>2016-02-08 07:39:07</td>\n",
       "      <td>2016-02-08 08:09:07</td>\n",
       "      <td>39.627781</td>\n",
       "      <td>-84.188354</td>\n",
       "      <td>R</td>\n",
       "      <td>Dayton</td>\n",
       "      <td>Montgomery</td>\n",
       "      <td>6.0</td>\n",
       "      <td>...</td>\n",
       "      <td>False</td>\n",
       "      <td>False</td>\n",
       "      <td>False</td>\n",
       "      <td>False</td>\n",
       "      <td>False</td>\n",
       "      <td>False</td>\n",
       "      <td>False</td>\n",
       "      <td>True</td>\n",
       "      <td>False</td>\n",
       "      <td>Day</td>\n",
       "    </tr>\n",
       "  </tbody>\n",
       "</table>\n",
       "<p>5 rows × 26 columns</p>\n",
       "</div>"
      ],
      "text/plain": [
       "     Source  Severity           Start_Time             End_Time  Start_Lat  \\\n",
       "0  MapQuest         3  2016-02-08 05:46:00  2016-02-08 11:00:00  39.865147   \n",
       "1  MapQuest         2  2016-02-08 06:07:59  2016-02-08 06:37:59  39.928059   \n",
       "2  MapQuest         2  2016-02-08 06:49:27  2016-02-08 07:19:27  39.063148   \n",
       "3  MapQuest         3  2016-02-08 07:23:34  2016-02-08 07:53:34  39.747753   \n",
       "4  MapQuest         2  2016-02-08 07:39:07  2016-02-08 08:09:07  39.627781   \n",
       "\n",
       "   Start_Lng Side          City      County  Visibility(mi)  ... Junction  \\\n",
       "0 -84.058723    R        Dayton  Montgomery            10.0  ...    False   \n",
       "1 -82.831184    L  Reynoldsburg    Franklin            10.0  ...    False   \n",
       "2 -84.032608    R  Williamsburg    Clermont            10.0  ...    False   \n",
       "3 -84.205582    R        Dayton  Montgomery             9.0  ...    False   \n",
       "4 -84.188354    R        Dayton  Montgomery             6.0  ...    False   \n",
       "\n",
       "   No_Exit Railway  Roundabout  Station   Stop  Traffic_Calming  \\\n",
       "0    False   False       False    False  False            False   \n",
       "1    False   False       False    False  False            False   \n",
       "2    False   False       False    False  False            False   \n",
       "3    False   False       False    False  False            False   \n",
       "4    False   False       False    False  False            False   \n",
       "\n",
       "   Traffic_Signal  Turning_Loop  Sunrise_Sunset  \n",
       "0           False         False           Night  \n",
       "1           False         False           Night  \n",
       "2            True         False           Night  \n",
       "3           False         False           Night  \n",
       "4            True         False             Day  \n",
       "\n",
       "[5 rows x 26 columns]"
      ]
     },
     "execution_count": 46,
     "metadata": {},
     "output_type": "execute_result"
    }
   ],
   "source": [
    "#Reading csv data into df\n",
    "df = pd.read_csv('US_Accidents_June20.csv', usecols = columns)\n",
    "df.head()"
   ]
  },
  {
   "cell_type": "code",
   "execution_count": 47,
   "metadata": {},
   "outputs": [
    {
     "data": {
      "text/plain": [
       "0"
      ]
     },
     "execution_count": 47,
     "metadata": {},
     "output_type": "execute_result"
    }
   ],
   "source": [
    "#Drop null values, subject to change\n",
    "df.dropna(axis=0,inplace=True)\n",
    "df.isnull().sum().sum()"
   ]
  },
  {
   "cell_type": "code",
   "execution_count": 49,
   "metadata": {},
   "outputs": [],
   "source": [
    "#Labelling output and input, subject to change\n",
    "y = df['Severity']\n",
    "X = df.drop(['Severity','Start_Time','End_Time','City','County'],axis=1)"
   ]
  },
  {
   "cell_type": "code",
   "execution_count": 50,
   "metadata": {},
   "outputs": [
    {
     "data": {
      "text/plain": [
       "<bound method NDFrame.head of          Start_Lat   Start_Lng  Visibility(mi)  Wind_Speed(mph)   Bump  \\\n",
       "2        39.063148  -84.032608            10.0              3.5  False   \n",
       "3        39.747753  -84.205582             9.0              4.6  False   \n",
       "4        39.627781  -84.188354             6.0              3.5  False   \n",
       "5        40.100590  -82.925194             7.0              3.5  False   \n",
       "6        39.758274  -84.230507             7.0              3.5  False   \n",
       "...            ...         ...             ...              ...    ...   \n",
       "3513612  34.002480 -117.379360            10.0             13.0  False   \n",
       "3513613  32.766960 -117.148060            10.0              6.0  False   \n",
       "3513614  33.775450 -117.847790            10.0             10.0  False   \n",
       "3513615  33.992460 -118.403020            10.0              8.0  False   \n",
       "3513616  34.133930 -117.230920             7.0              7.0  False   \n",
       "\n",
       "         Crossing  Give_Way  Junction  No_Exit  Railway  ...  \\\n",
       "2           False     False     False    False    False  ...   \n",
       "3           False     False     False    False    False  ...   \n",
       "4           False     False     False    False    False  ...   \n",
       "5           False     False     False    False    False  ...   \n",
       "6           False     False     False    False    False  ...   \n",
       "...           ...       ...       ...      ...      ...  ...   \n",
       "3513612     False     False     False    False    False  ...   \n",
       "3513613     False     False     False    False    False  ...   \n",
       "3513614     False     False      True    False    False  ...   \n",
       "3513615     False     False     False    False    False  ...   \n",
       "3513616     False     False     False    False    False  ...   \n",
       "\n",
       "         Weather_Condition_Thunderstorm  \\\n",
       "2                                     0   \n",
       "3                                     0   \n",
       "4                                     0   \n",
       "5                                     0   \n",
       "6                                     0   \n",
       "...                                 ...   \n",
       "3513612                               0   \n",
       "3513613                               0   \n",
       "3513614                               0   \n",
       "3513615                               0   \n",
       "3513616                               0   \n",
       "\n",
       "         Weather_Condition_Thunderstorms and Rain  \\\n",
       "2                                               0   \n",
       "3                                               0   \n",
       "4                                               0   \n",
       "5                                               0   \n",
       "6                                               0   \n",
       "...                                           ...   \n",
       "3513612                                         0   \n",
       "3513613                                         0   \n",
       "3513614                                         0   \n",
       "3513615                                         0   \n",
       "3513616                                         0   \n",
       "\n",
       "         Weather_Condition_Thunderstorms and Snow  Weather_Condition_Tornado  \\\n",
       "2                                               0                          0   \n",
       "3                                               0                          0   \n",
       "4                                               0                          0   \n",
       "5                                               0                          0   \n",
       "6                                               0                          0   \n",
       "...                                           ...                        ...   \n",
       "3513612                                         0                          0   \n",
       "3513613                                         0                          0   \n",
       "3513614                                         0                          0   \n",
       "3513615                                         0                          0   \n",
       "3513616                                         0                          0   \n",
       "\n",
       "         Weather_Condition_Widespread Dust  \\\n",
       "2                                        0   \n",
       "3                                        0   \n",
       "4                                        0   \n",
       "5                                        0   \n",
       "6                                        0   \n",
       "...                                    ...   \n",
       "3513612                                  0   \n",
       "3513613                                  0   \n",
       "3513614                                  0   \n",
       "3513615                                  0   \n",
       "3513616                                  0   \n",
       "\n",
       "         Weather_Condition_Widespread Dust / Windy  \\\n",
       "2                                                0   \n",
       "3                                                0   \n",
       "4                                                0   \n",
       "5                                                0   \n",
       "6                                                0   \n",
       "...                                            ...   \n",
       "3513612                                          0   \n",
       "3513613                                          0   \n",
       "3513614                                          0   \n",
       "3513615                                          0   \n",
       "3513616                                          0   \n",
       "\n",
       "         Weather_Condition_Wintry Mix  Weather_Condition_Wintry Mix / Windy  \\\n",
       "2                                   0                                     0   \n",
       "3                                   0                                     0   \n",
       "4                                   0                                     0   \n",
       "5                                   0                                     0   \n",
       "6                                   0                                     0   \n",
       "...                               ...                                   ...   \n",
       "3513612                             0                                     0   \n",
       "3513613                             0                                     0   \n",
       "3513614                             0                                     0   \n",
       "3513615                             0                                     0   \n",
       "3513616                             0                                     0   \n",
       "\n",
       "         Sunrise_Sunset_Day  Sunrise_Sunset_Night  \n",
       "2                         0                     1  \n",
       "3                         0                     1  \n",
       "4                         1                     0  \n",
       "5                         1                     0  \n",
       "6                         1                     0  \n",
       "...                     ...                   ...  \n",
       "3513612                   1                     0  \n",
       "3513613                   1                     0  \n",
       "3513614                   1                     0  \n",
       "3513615                   1                     0  \n",
       "3513616                   1                     0  \n",
       "\n",
       "[3042201 rows x 172 columns]>"
      ]
     },
     "execution_count": 50,
     "metadata": {},
     "output_type": "execute_result"
    }
   ],
   "source": [
    "#Use dummy variables for input features, convert to numerical data \n",
    "X = pd.get_dummies(X)\n",
    "X.head"
   ]
  },
  {
   "cell_type": "code",
   "execution_count": 51,
   "metadata": {},
   "outputs": [],
   "source": [
    "#Show distribution of severity values/output values"
   ]
  },
  {
   "cell_type": "code",
   "execution_count": null,
   "metadata": {},
   "outputs": [],
   "source": [
    "#Balancing the dataset\n",
    "ros = RandomOverSampler(random_state=0)\n",
    "X_resampled, y_resampled = ros.fit_resample(X, y)\n",
    "from collections import Counter\n",
    "print(sorted(Counter(y_resampled).items()))"
   ]
  },
  {
   "cell_type": "code",
   "execution_count": 16,
   "metadata": {},
   "outputs": [],
   "source": [
    "#splitting the data into training and test datasets \n",
    "X_train,X_test,y_train,y_test = train_test_split(X_resampled,y_resampled,test_size=0.3, random_state=42)"
   ]
  },
  {
   "cell_type": "code",
   "execution_count": 17,
   "metadata": {},
   "outputs": [],
   "source": [
    "#Decision Tree Classifier model on training data and predictions\n",
    "model = DecisionTreeClassifier()\n",
    "model.fit(X_train,y_train)\n",
    "y_pred = model.predict(X_test)"
   ]
  },
  {
   "cell_type": "code",
   "execution_count": 18,
   "metadata": {},
   "outputs": [
    {
     "data": {
      "text/plain": [
       "0.9514974235884434"
      ]
     },
     "execution_count": 18,
     "metadata": {},
     "output_type": "execute_result"
    }
   ],
   "source": [
    "# Accuracy \n",
    "accuracy = accuracy_score(y_test,y_pred)\n",
    "accuracy"
   ]
  },
  {
   "cell_type": "code",
   "execution_count": 19,
   "metadata": {},
   "outputs": [
    {
     "name": "stdout",
     "output_type": "stream",
     "text": [
      "              precision    recall  f1-score   support\n",
      "\n",
      "           1       0.99      1.00      1.00    620515\n",
      "           2       0.95      0.86      0.90    622119\n",
      "           3       0.90      0.94      0.92    620837\n",
      "           4       0.97      1.00      0.98    622933\n",
      "\n",
      "    accuracy                           0.95   2486404\n",
      "   macro avg       0.95      0.95      0.95   2486404\n",
      "weighted avg       0.95      0.95      0.95   2486404\n",
      "\n"
     ]
    }
   ],
   "source": [
    "#Classification report\n",
    "from sklearn.metrics import classification_report\n",
    "report = classification_report(y_test,y_pred)\n",
    "print(report)"
   ]
  },
  {
   "cell_type": "code",
   "execution_count": null,
   "metadata": {},
   "outputs": [],
   "source": []
  }
 ],
 "metadata": {
  "kernelspec": {
   "display_name": "mlenv",
   "language": "python",
   "name": "mlenv"
  },
  "language_info": {
   "codemirror_mode": {
    "name": "ipython",
    "version": 3
   },
   "file_extension": ".py",
   "mimetype": "text/x-python",
   "name": "python",
   "nbconvert_exporter": "python",
   "pygments_lexer": "ipython3",
   "version": "3.7.9"
  }
 },
 "nbformat": 4,
 "nbformat_minor": 4
}
