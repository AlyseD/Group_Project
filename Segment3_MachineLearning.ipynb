{
 "cells": [
  {
   "cell_type": "code",
   "execution_count": 1,
   "metadata": {},
   "outputs": [
    {
     "name": "stdout",
     "output_type": "stream",
     "text": [
      "\u001b[31mERROR: Could not find a version that satisfies the requirement psycopg (from versions: none)\u001b[0m\r\n",
      "\u001b[31mERROR: No matching distribution found for psycopg\u001b[0m\r\n"
     ]
    }
   ],
   "source": [
    "!pip install psycopg"
   ]
  },
  {
   "cell_type": "code",
   "execution_count": 2,
   "metadata": {},
   "outputs": [
    {
     "name": "stdout",
     "output_type": "stream",
     "text": [
      "Requirement already satisfied: imblearn in /opt/anaconda3/lib/python3.8/site-packages (0.0)\n",
      "Requirement already satisfied: imbalanced-learn in /opt/anaconda3/lib/python3.8/site-packages (from imblearn) (0.7.0)\n",
      "Requirement already satisfied: joblib>=0.11 in /opt/anaconda3/lib/python3.8/site-packages (from imbalanced-learn->imblearn) (0.17.0)\n",
      "Requirement already satisfied: scipy>=0.19.1 in /opt/anaconda3/lib/python3.8/site-packages (from imbalanced-learn->imblearn) (1.5.2)\n",
      "Requirement already satisfied: numpy>=1.13.3 in /opt/anaconda3/lib/python3.8/site-packages (from imbalanced-learn->imblearn) (1.19.2)\n",
      "Requirement already satisfied: scikit-learn>=0.23 in /opt/anaconda3/lib/python3.8/site-packages (from imbalanced-learn->imblearn) (0.23.2)\n",
      "Requirement already satisfied: threadpoolctl>=2.0.0 in /opt/anaconda3/lib/python3.8/site-packages (from scikit-learn>=0.23->imbalanced-learn->imblearn) (2.1.0)\n"
     ]
    }
   ],
   "source": [
    "!pip install imblearn"
   ]
  },
  {
   "cell_type": "code",
   "execution_count": 3,
   "metadata": {},
   "outputs": [],
   "source": [
    "import warnings\n",
    "warnings.filterwarnings('ignore')\n",
    "import pandas as pd\n",
    "import matplotlib.pyplot as plt\n",
    "from imblearn.over_sampling import RandomOverSampler\n",
    "from sklearn.model_selection import train_test_split\n",
    "from sklearn.tree import DecisionTreeClassifier\n",
    "from sklearn.metrics import accuracy_score\n",
    "import seaborn as sns"
   ]
  },
  {
   "cell_type": "code",
   "execution_count": 4,
   "metadata": {},
   "outputs": [],
   "source": [
    "#Columns to use according to ERD\n",
    "columns = ['Source','Severity', 'Start_Time', 'End_Time', 'Start_Lat', 'Sunrise_Sunset', 'Start_Lng','Side', 'City', 'County',\n",
    "          'Visibility(mi)', 'Wind_Direction', 'Wind_Speed(mph)', 'Weather_Condition']\n",
    "\n",
    "#Columns to use according to ERD\n",
    "#columns = ['ID', 'Severity', 'Start_Time', 'End_Time', 'State', 'Country', 'Visibility(mi)', 'Weather_Condition', 'Sunrise_Sunset', 'Civil_Twilight']"
   ]
  },
  {
   "cell_type": "code",
   "execution_count": 5,
   "metadata": {},
   "outputs": [
    {
     "data": {
      "text/html": [
       "<div>\n",
       "<style scoped>\n",
       "    .dataframe tbody tr th:only-of-type {\n",
       "        vertical-align: middle;\n",
       "    }\n",
       "\n",
       "    .dataframe tbody tr th {\n",
       "        vertical-align: top;\n",
       "    }\n",
       "\n",
       "    .dataframe thead th {\n",
       "        text-align: right;\n",
       "    }\n",
       "</style>\n",
       "<table border=\"1\" class=\"dataframe\">\n",
       "  <thead>\n",
       "    <tr style=\"text-align: right;\">\n",
       "      <th></th>\n",
       "      <th>Source</th>\n",
       "      <th>Severity</th>\n",
       "      <th>Start_Time</th>\n",
       "      <th>End_Time</th>\n",
       "      <th>Start_Lat</th>\n",
       "      <th>Start_Lng</th>\n",
       "      <th>Side</th>\n",
       "      <th>City</th>\n",
       "      <th>County</th>\n",
       "      <th>Visibility(mi)</th>\n",
       "      <th>Wind_Direction</th>\n",
       "      <th>Wind_Speed(mph)</th>\n",
       "      <th>Weather_Condition</th>\n",
       "      <th>Sunrise_Sunset</th>\n",
       "    </tr>\n",
       "  </thead>\n",
       "  <tbody>\n",
       "    <tr>\n",
       "      <th>0</th>\n",
       "      <td>MapQuest</td>\n",
       "      <td>3</td>\n",
       "      <td>2020-02-17 21:04:02</td>\n",
       "      <td>2020-02-17 22:21:33</td>\n",
       "      <td>29.848141</td>\n",
       "      <td>-95.333038</td>\n",
       "      <td>L</td>\n",
       "      <td>Houston</td>\n",
       "      <td>Harris</td>\n",
       "      <td>8.0</td>\n",
       "      <td>SSE</td>\n",
       "      <td>12.0</td>\n",
       "      <td>Mostly Cloudy</td>\n",
       "      <td>Night</td>\n",
       "    </tr>\n",
       "    <tr>\n",
       "      <th>1</th>\n",
       "      <td>Bing</td>\n",
       "      <td>2</td>\n",
       "      <td>2018-09-07 14:37:59</td>\n",
       "      <td>2018-09-07 15:52:21</td>\n",
       "      <td>34.072740</td>\n",
       "      <td>-117.783240</td>\n",
       "      <td>R</td>\n",
       "      <td>Pomona</td>\n",
       "      <td>Los Angeles</td>\n",
       "      <td>10.0</td>\n",
       "      <td>WSW</td>\n",
       "      <td>9.2</td>\n",
       "      <td>Clear</td>\n",
       "      <td>Day</td>\n",
       "    </tr>\n",
       "    <tr>\n",
       "      <th>2</th>\n",
       "      <td>MapQuest</td>\n",
       "      <td>2</td>\n",
       "      <td>2019-12-06 16:13:06</td>\n",
       "      <td>2019-12-06 17:27:45</td>\n",
       "      <td>35.496880</td>\n",
       "      <td>-97.619003</td>\n",
       "      <td>R</td>\n",
       "      <td>Oklahoma City</td>\n",
       "      <td>Oklahoma</td>\n",
       "      <td>10.0</td>\n",
       "      <td>N</td>\n",
       "      <td>13.0</td>\n",
       "      <td>Fair</td>\n",
       "      <td>Day</td>\n",
       "    </tr>\n",
       "    <tr>\n",
       "      <th>3</th>\n",
       "      <td>MapQuest</td>\n",
       "      <td>2</td>\n",
       "      <td>2020-06-27 04:31:07</td>\n",
       "      <td>2020-06-27 05:35:32</td>\n",
       "      <td>37.535553</td>\n",
       "      <td>-122.074997</td>\n",
       "      <td>R</td>\n",
       "      <td>Fremont</td>\n",
       "      <td>Alameda</td>\n",
       "      <td>10.0</td>\n",
       "      <td>N</td>\n",
       "      <td>9.0</td>\n",
       "      <td>Cloudy</td>\n",
       "      <td>Night</td>\n",
       "    </tr>\n",
       "    <tr>\n",
       "      <th>4</th>\n",
       "      <td>Bing</td>\n",
       "      <td>1</td>\n",
       "      <td>2020-06-01 07:28:32</td>\n",
       "      <td>2020-06-01 07:43:32</td>\n",
       "      <td>40.046390</td>\n",
       "      <td>-76.334290</td>\n",
       "      <td>R</td>\n",
       "      <td>Lancaster</td>\n",
       "      <td>Lancaster</td>\n",
       "      <td>10.0</td>\n",
       "      <td>W</td>\n",
       "      <td>8.0</td>\n",
       "      <td>Fair</td>\n",
       "      <td>Day</td>\n",
       "    </tr>\n",
       "  </tbody>\n",
       "</table>\n",
       "</div>"
      ],
      "text/plain": [
       "     Source  Severity           Start_Time             End_Time  Start_Lat  \\\n",
       "0  MapQuest         3  2020-02-17 21:04:02  2020-02-17 22:21:33  29.848141   \n",
       "1      Bing         2  2018-09-07 14:37:59  2018-09-07 15:52:21  34.072740   \n",
       "2  MapQuest         2  2019-12-06 16:13:06  2019-12-06 17:27:45  35.496880   \n",
       "3  MapQuest         2  2020-06-27 04:31:07  2020-06-27 05:35:32  37.535553   \n",
       "4      Bing         1  2020-06-01 07:28:32  2020-06-01 07:43:32  40.046390   \n",
       "\n",
       "    Start_Lng Side           City       County  Visibility(mi) Wind_Direction  \\\n",
       "0  -95.333038    L        Houston       Harris             8.0            SSE   \n",
       "1 -117.783240    R         Pomona  Los Angeles            10.0            WSW   \n",
       "2  -97.619003    R  Oklahoma City     Oklahoma            10.0              N   \n",
       "3 -122.074997    R        Fremont      Alameda            10.0              N   \n",
       "4  -76.334290    R      Lancaster    Lancaster            10.0              W   \n",
       "\n",
       "   Wind_Speed(mph) Weather_Condition Sunrise_Sunset  \n",
       "0             12.0     Mostly Cloudy          Night  \n",
       "1              9.2             Clear            Day  \n",
       "2             13.0              Fair            Day  \n",
       "3              9.0            Cloudy          Night  \n",
       "4              8.0              Fair            Day  "
      ]
     },
     "execution_count": 5,
     "metadata": {},
     "output_type": "execute_result"
    }
   ],
   "source": [
    "#Reading csv data into df\n",
    "df = pd.read_csv('df_new_100.csv', usecols = columns)\n",
    "df.head()"
   ]
  },
  {
   "cell_type": "code",
   "execution_count": 6,
   "metadata": {},
   "outputs": [
    {
     "data": {
      "text/plain": [
       "0"
      ]
     },
     "execution_count": 6,
     "metadata": {},
     "output_type": "execute_result"
    }
   ],
   "source": [
    "#Drop null values, subject to change\n",
    "df.dropna(axis=0,inplace=True)\n",
    "df.isnull().sum().sum()"
   ]
  },
  {
   "cell_type": "code",
   "execution_count": 14,
   "metadata": {},
   "outputs": [],
   "source": [
    "#Labelling output and input, subject to change\n",
    "y = df['Severity']\n",
    "X = df.drop(['Severity', 'Start_Time', 'End_Time', 'Visibility(mi)', 'Start_Lat', 'Start_Lng', 'Source', 'Side'],axis=1)"
   ]
  },
  {
   "cell_type": "code",
   "execution_count": 15,
   "metadata": {},
   "outputs": [
    {
     "data": {
      "text/plain": [
       "(100000, 6)"
      ]
     },
     "execution_count": 15,
     "metadata": {},
     "output_type": "execute_result"
    }
   ],
   "source": [
    "X.shape"
   ]
  },
  {
   "cell_type": "code",
   "execution_count": 16,
   "metadata": {},
   "outputs": [
    {
     "data": {
      "text/plain": [
       "<bound method NDFrame.head of        Wind_Speed(mph)  Weather_Condition_Blowing Dust  \\\n",
       "0                 12.0                               0   \n",
       "1                  9.2                               0   \n",
       "2                 13.0                               0   \n",
       "3                  9.0                               0   \n",
       "4                  8.0                               0   \n",
       "...                ...                             ...   \n",
       "99995             17.3                               0   \n",
       "99996              3.5                               0   \n",
       "99997             13.0                               0   \n",
       "99998              3.0                               0   \n",
       "99999              6.9                               0   \n",
       "\n",
       "       Weather_Condition_Blowing Dust / Windy  Weather_Condition_Blowing Snow  \\\n",
       "0                                           0                               0   \n",
       "1                                           0                               0   \n",
       "2                                           0                               0   \n",
       "3                                           0                               0   \n",
       "4                                           0                               0   \n",
       "...                                       ...                             ...   \n",
       "99995                                       0                               0   \n",
       "99996                                       0                               0   \n",
       "99997                                       0                               0   \n",
       "99998                                       0                               0   \n",
       "99999                                       0                               0   \n",
       "\n",
       "       Weather_Condition_Clear  Weather_Condition_Cloudy  \\\n",
       "0                            0                         0   \n",
       "1                            1                         0   \n",
       "2                            0                         0   \n",
       "3                            0                         1   \n",
       "4                            0                         0   \n",
       "...                        ...                       ...   \n",
       "99995                        0                         0   \n",
       "99996                        0                         0   \n",
       "99997                        0                         0   \n",
       "99998                        0                         0   \n",
       "99999                        0                         0   \n",
       "\n",
       "       Weather_Condition_Cloudy / Windy  Weather_Condition_Drizzle  \\\n",
       "0                                     0                          0   \n",
       "1                                     0                          0   \n",
       "2                                     0                          0   \n",
       "3                                     0                          0   \n",
       "4                                     0                          0   \n",
       "...                                 ...                        ...   \n",
       "99995                                 0                          0   \n",
       "99996                                 0                          0   \n",
       "99997                                 0                          0   \n",
       "99998                                 0                          0   \n",
       "99999                                 0                          0   \n",
       "\n",
       "       Weather_Condition_Drizzle and Fog  Weather_Condition_Fair  ...  \\\n",
       "0                                      0                       0  ...   \n",
       "1                                      0                       0  ...   \n",
       "2                                      0                       1  ...   \n",
       "3                                      0                       0  ...   \n",
       "4                                      0                       1  ...   \n",
       "...                                  ...                     ...  ...   \n",
       "99995                                  0                       0  ...   \n",
       "99996                                  0                       0  ...   \n",
       "99997                                  0                       1  ...   \n",
       "99998                                  0                       0  ...   \n",
       "99999                                  0                       0  ...   \n",
       "\n",
       "       Wind_Direction_SSE  Wind_Direction_SSW  Wind_Direction_SW  \\\n",
       "0                       1                   0                  0   \n",
       "1                       0                   0                  0   \n",
       "2                       0                   0                  0   \n",
       "3                       0                   0                  0   \n",
       "4                       0                   0                  0   \n",
       "...                   ...                 ...                ...   \n",
       "99995                   0                   0                  0   \n",
       "99996                   0                   0                  0   \n",
       "99997                   0                   0                  0   \n",
       "99998                   0                   0                  0   \n",
       "99999                   0                   0                  0   \n",
       "\n",
       "       Wind_Direction_South  Wind_Direction_VAR  Wind_Direction_Variable  \\\n",
       "0                         0                   0                        0   \n",
       "1                         0                   0                        0   \n",
       "2                         0                   0                        0   \n",
       "3                         0                   0                        0   \n",
       "4                         0                   0                        0   \n",
       "...                     ...                 ...                      ...   \n",
       "99995                     0                   0                        0   \n",
       "99996                     0                   0                        0   \n",
       "99997                     0                   0                        0   \n",
       "99998                     0                   1                        0   \n",
       "99999                     0                   0                        0   \n",
       "\n",
       "       Wind_Direction_W  Wind_Direction_WNW  Wind_Direction_WSW  \\\n",
       "0                     0                   0                   0   \n",
       "1                     0                   0                   1   \n",
       "2                     0                   0                   0   \n",
       "3                     0                   0                   0   \n",
       "4                     1                   0                   0   \n",
       "...                 ...                 ...                 ...   \n",
       "99995                 0                   0                   0   \n",
       "99996                 0                   0                   0   \n",
       "99997                 0                   0                   0   \n",
       "99998                 0                   0                   0   \n",
       "99999                 0                   0                   1   \n",
       "\n",
       "       Wind_Direction_West  \n",
       "0                        0  \n",
       "1                        0  \n",
       "2                        0  \n",
       "3                        0  \n",
       "4                        0  \n",
       "...                    ...  \n",
       "99995                    0  \n",
       "99996                    0  \n",
       "99997                    0  \n",
       "99998                    0  \n",
       "99999                    0  \n",
       "\n",
       "[100000 rows x 6907 columns]>"
      ]
     },
     "execution_count": 16,
     "metadata": {},
     "output_type": "execute_result"
    }
   ],
   "source": [
    "#Use dummy variables for input features, convert to numerical data \n",
    "X = pd.get_dummies(X, columns=['Weather_Condition', 'Sunrise_Sunset', 'City', 'County', 'Wind_Direction'])\n",
    "X.head"
   ]
  },
  {
   "cell_type": "code",
   "execution_count": 17,
   "metadata": {},
   "outputs": [],
   "source": [
    "# Correlation plot\n",
    "#plt.figure(figsize=(15,8))\n",
    "#corr = df.corr()\n",
    "#ax = sns.heatmap(\n",
    "    #corr, \n",
    "    #vmin=-1, vmax=1, center=0,\n",
    "    #cmap=sns.diverging_palette(20, 220, n=200),\n",
    "    #square=True\n",
    "#)\n",
    "#plt.title(\"Correlation Plot\")\n",
    "#ax.set_xticklabels(\n",
    "    #ax.get_xticklabels(),\n",
    "    #rotation=45,\n",
    "    #horizontalalignment='right'\n",
    "#);"
   ]
  },
  {
   "cell_type": "code",
   "execution_count": 18,
   "metadata": {},
   "outputs": [
    {
     "name": "stdout",
     "output_type": "stream",
     "text": [
      "[(1, 67974), (2, 67974), (3, 67974), (4, 67974)]\n"
     ]
    }
   ],
   "source": [
    "#Balancing the dataset\n",
    "ros = RandomOverSampler(random_state=0)\n",
    "X_resampled, y_resampled = ros.fit_resample(X, y)\n",
    "from collections import Counter\n",
    "print(sorted(Counter(y_resampled).items()))"
   ]
  },
  {
   "cell_type": "code",
   "execution_count": 19,
   "metadata": {},
   "outputs": [],
   "source": [
    "#splitting the data into training and test datasets \n",
    "X_train,X_test,y_train,y_test = train_test_split(X_resampled,y_resampled,test_size=0.3, random_state=42)"
   ]
  },
  {
   "cell_type": "code",
   "execution_count": 20,
   "metadata": {},
   "outputs": [],
   "source": [
    "#Decision Tree Classifier model on training data and predictions\n",
    "model = DecisionTreeClassifier()\n",
    "model.fit(X_train,y_train)\n",
    "y_pred = model.predict(X_test)"
   ]
  },
  {
   "cell_type": "code",
   "execution_count": 21,
   "metadata": {},
   "outputs": [
    {
     "data": {
      "text/plain": [
       "0.8829825056087485"
      ]
     },
     "execution_count": 21,
     "metadata": {},
     "output_type": "execute_result"
    }
   ],
   "source": [
    "# Accuracy \n",
    "accuracy = accuracy_score(y_test,y_pred)\n",
    "accuracy"
   ]
  },
  {
   "cell_type": "code",
   "execution_count": 22,
   "metadata": {},
   "outputs": [
    {
     "name": "stdout",
     "output_type": "stream",
     "text": [
      "              precision    recall  f1-score   support\n",
      "\n",
      "           1       0.97      1.00      0.99     20398\n",
      "           2       0.82      0.71      0.76     20233\n",
      "           3       0.78      0.82      0.80     20407\n",
      "           4       0.95      1.00      0.97     20531\n",
      "\n",
      "    accuracy                           0.88     81569\n",
      "   macro avg       0.88      0.88      0.88     81569\n",
      "weighted avg       0.88      0.88      0.88     81569\n",
      "\n"
     ]
    }
   ],
   "source": [
    "#Classification report\n",
    "from sklearn.metrics import classification_report\n",
    "report = classification_report(y_test,y_pred)\n",
    "print(report)"
   ]
  },
  {
   "cell_type": "code",
   "execution_count": 23,
   "metadata": {},
   "outputs": [
    {
     "data": {
      "text/plain": [
       "array([[0.00652765, 0.55484604, 0.32621912, 0.11240719],\n",
       "       [0.78457566, 0.1087348 , 0.03286351, 0.07382602],\n",
       "       [0.90117371, 0.05769631, 0.01793997, 0.02319001],\n",
       "       ...,\n",
       "       [0.55602618, 0.3970708 , 0.03767965, 0.00922337],\n",
       "       [0.00124898, 0.33153148, 0.34514591, 0.32207363],\n",
       "       [0.08367676, 0.17438203, 0.11242057, 0.62952064]])"
      ]
     },
     "execution_count": 23,
     "metadata": {},
     "output_type": "execute_result"
    }
   ],
   "source": [
    "from sklearn.linear_model import LogisticRegression\n",
    "lr = LogisticRegression()\n",
    "lr.fit(X_train,y_train)\n",
    "y_pred = lr.predict_proba(X_test)\n",
    "y_pred"
   ]
  },
  {
   "cell_type": "code",
   "execution_count": null,
   "metadata": {},
   "outputs": [],
   "source": []
  }
 ],
 "metadata": {
  "kernelspec": {
   "display_name": "mlenv",
   "language": "python",
   "name": "mlenv"
  },
  "language_info": {
   "codemirror_mode": {
    "name": "ipython",
    "version": 3
   },
   "file_extension": ".py",
   "mimetype": "text/x-python",
   "name": "python",
   "nbconvert_exporter": "python",
   "pygments_lexer": "ipython3",
   "version": "3.7.9"
  }
 },
 "nbformat": 4,
 "nbformat_minor": 4
}
