{
 "cells": [
  {
   "cell_type": "code",
   "execution_count": 1,
   "metadata": {},
   "outputs": [],
   "source": [
    "import pandas as pd \n",
    "import matplotlib.pyplot as plt\n",
    "import seaborn as sns\n",
    "import numpy as np"
   ]
  },
  {
   "cell_type": "code",
   "execution_count": 2,
   "metadata": {},
   "outputs": [
    {
     "data": {
      "text/html": [
       "<div>\n",
       "<style scoped>\n",
       "    .dataframe tbody tr th:only-of-type {\n",
       "        vertical-align: middle;\n",
       "    }\n",
       "\n",
       "    .dataframe tbody tr th {\n",
       "        vertical-align: top;\n",
       "    }\n",
       "\n",
       "    .dataframe thead th {\n",
       "        text-align: right;\n",
       "    }\n",
       "</style>\n",
       "<table border=\"1\" class=\"dataframe\">\n",
       "  <thead>\n",
       "    <tr style=\"text-align: right;\">\n",
       "      <th></th>\n",
       "      <th>Original_Index</th>\n",
       "      <th>ID</th>\n",
       "      <th>Severity</th>\n",
       "      <th>Start_Time</th>\n",
       "      <th>End_Time</th>\n",
       "      <th>State</th>\n",
       "      <th>Country</th>\n",
       "      <th>Visibility(mi)</th>\n",
       "      <th>Weather_Condition</th>\n",
       "      <th>Sunrise_Sunset</th>\n",
       "      <th>Civil_Twilight</th>\n",
       "      <th>Grouped_Severity</th>\n",
       "      <th>Hour</th>\n",
       "      <th>Grouped_Hour</th>\n",
       "      <th>Month</th>\n",
       "      <th>Grouped_Month</th>\n",
       "    </tr>\n",
       "  </thead>\n",
       "  <tbody>\n",
       "    <tr>\n",
       "      <th>0</th>\n",
       "      <td>3490633</td>\n",
       "      <td>A-3490797</td>\n",
       "      <td>2</td>\n",
       "      <td>2019-07-05 10:41:00</td>\n",
       "      <td>2019-07-05 11:39:00</td>\n",
       "      <td>UT</td>\n",
       "      <td>US</td>\n",
       "      <td>10.0</td>\n",
       "      <td>Fair</td>\n",
       "      <td>Day</td>\n",
       "      <td>Day</td>\n",
       "      <td>0</td>\n",
       "      <td>10</td>\n",
       "      <td>12</td>\n",
       "      <td>7</td>\n",
       "      <td>6</td>\n",
       "    </tr>\n",
       "    <tr>\n",
       "      <th>1</th>\n",
       "      <td>1485927</td>\n",
       "      <td>A-1485959</td>\n",
       "      <td>3</td>\n",
       "      <td>2018-12-28 08:27:18</td>\n",
       "      <td>2018-12-28 08:56:49</td>\n",
       "      <td>FL</td>\n",
       "      <td>US</td>\n",
       "      <td>7.0</td>\n",
       "      <td>Light Rain</td>\n",
       "      <td>Day</td>\n",
       "      <td>Day</td>\n",
       "      <td>1</td>\n",
       "      <td>8</td>\n",
       "      <td>12</td>\n",
       "      <td>12</td>\n",
       "      <td>12</td>\n",
       "    </tr>\n",
       "    <tr>\n",
       "      <th>2</th>\n",
       "      <td>2950422</td>\n",
       "      <td>A-2950571</td>\n",
       "      <td>2</td>\n",
       "      <td>2020-01-07 13:58:19</td>\n",
       "      <td>2020-01-07 14:27:03</td>\n",
       "      <td>VA</td>\n",
       "      <td>US</td>\n",
       "      <td>10.0</td>\n",
       "      <td>Cloudy</td>\n",
       "      <td>Day</td>\n",
       "      <td>Day</td>\n",
       "      <td>0</td>\n",
       "      <td>13</td>\n",
       "      <td>18</td>\n",
       "      <td>1</td>\n",
       "      <td>12</td>\n",
       "    </tr>\n",
       "    <tr>\n",
       "      <th>3</th>\n",
       "      <td>153637</td>\n",
       "      <td>A-153639</td>\n",
       "      <td>2</td>\n",
       "      <td>2016-09-26 08:08:03</td>\n",
       "      <td>2016-09-26 08:37:07</td>\n",
       "      <td>GA</td>\n",
       "      <td>US</td>\n",
       "      <td>10.0</td>\n",
       "      <td>Partly Cloudy</td>\n",
       "      <td>Day</td>\n",
       "      <td>Day</td>\n",
       "      <td>0</td>\n",
       "      <td>8</td>\n",
       "      <td>12</td>\n",
       "      <td>9</td>\n",
       "      <td>9</td>\n",
       "    </tr>\n",
       "    <tr>\n",
       "      <th>4</th>\n",
       "      <td>107913</td>\n",
       "      <td>A-107915</td>\n",
       "      <td>3</td>\n",
       "      <td>2016-05-19 22:08:20</td>\n",
       "      <td>2016-05-19 22:38:20</td>\n",
       "      <td>CA</td>\n",
       "      <td>US</td>\n",
       "      <td>10.0</td>\n",
       "      <td>Overcast</td>\n",
       "      <td>Night</td>\n",
       "      <td>Night</td>\n",
       "      <td>1</td>\n",
       "      <td>22</td>\n",
       "      <td>24</td>\n",
       "      <td>5</td>\n",
       "      <td>3</td>\n",
       "    </tr>\n",
       "  </tbody>\n",
       "</table>\n",
       "</div>"
      ],
      "text/plain": [
       "   Original_Index         ID  Severity           Start_Time  \\\n",
       "0         3490633  A-3490797         2  2019-07-05 10:41:00   \n",
       "1         1485927  A-1485959         3  2018-12-28 08:27:18   \n",
       "2         2950422  A-2950571         2  2020-01-07 13:58:19   \n",
       "3          153637   A-153639         2  2016-09-26 08:08:03   \n",
       "4          107913   A-107915         3  2016-05-19 22:08:20   \n",
       "\n",
       "              End_Time State Country  Visibility(mi) Weather_Condition  \\\n",
       "0  2019-07-05 11:39:00    UT      US            10.0              Fair   \n",
       "1  2018-12-28 08:56:49    FL      US             7.0        Light Rain   \n",
       "2  2020-01-07 14:27:03    VA      US            10.0            Cloudy   \n",
       "3  2016-09-26 08:37:07    GA      US            10.0     Partly Cloudy   \n",
       "4  2016-05-19 22:38:20    CA      US            10.0          Overcast   \n",
       "\n",
       "  Sunrise_Sunset Civil_Twilight  Grouped_Severity  Hour  Grouped_Hour  Month  \\\n",
       "0            Day            Day                 0    10            12      7   \n",
       "1            Day            Day                 1     8            12     12   \n",
       "2            Day            Day                 0    13            18      1   \n",
       "3            Day            Day                 0     8            12      9   \n",
       "4          Night          Night                 1    22            24      5   \n",
       "\n",
       "   Grouped_Month  \n",
       "0              6  \n",
       "1             12  \n",
       "2             12  \n",
       "3              9  \n",
       "4              3  "
      ]
     },
     "execution_count": 2,
     "metadata": {},
     "output_type": "execute_result"
    }
   ],
   "source": [
    "df = pd.read_csv('df_edit_sample.csv')\n",
    "df.head()"
   ]
  },
  {
   "cell_type": "code",
   "execution_count": 4,
   "metadata": {},
   "outputs": [
    {
     "data": {
      "text/plain": [
       "Index(['Original_Index', 'ID', 'Severity', 'Start_Time', 'End_Time', 'State',\n",
       "       'Country', 'Visibility(mi)', 'Weather_Condition', 'Sunrise_Sunset',\n",
       "       'Civil_Twilight', 'Grouped_Severity', 'Hour', 'Grouped_Hour', 'Month',\n",
       "       'Grouped_Month'],\n",
       "      dtype='object')"
      ]
     },
     "execution_count": 4,
     "metadata": {},
     "output_type": "execute_result"
    }
   ],
   "source": [
    "df.columns"
   ]
  },
  {
   "cell_type": "code",
   "execution_count": 3,
   "metadata": {},
   "outputs": [],
   "source": [
    "y = df['Severity']\n",
    "X = df['Weather_Condition']"
   ]
  },
  {
   "cell_type": "code",
   "execution_count": 6,
   "metadata": {},
   "outputs": [],
   "source": [
    "X = pd.get_dummies(X)"
   ]
  },
  {
   "cell_type": "code",
   "execution_count": 7,
   "metadata": {},
   "outputs": [],
   "source": [
    "from sklearn.model_selection import train_test_split\n",
    "X_train,X_test,y_train,y_test = train_test_split(X,y,test_size=0.2,random_state=42)"
   ]
  },
  {
   "cell_type": "code",
   "execution_count": 8,
   "metadata": {},
   "outputs": [
    {
     "data": {
      "text/plain": [
       "DecisionTreeClassifier()"
      ]
     },
     "execution_count": 8,
     "metadata": {},
     "output_type": "execute_result"
    }
   ],
   "source": [
    "from sklearn.tree import DecisionTreeClassifier\n",
    "dt = DecisionTreeClassifier()\n",
    "dt.fit(X_train,y_train)"
   ]
  },
  {
   "cell_type": "code",
   "execution_count": 9,
   "metadata": {},
   "outputs": [],
   "source": [
    "y_pred = dt.predict(X_test)"
   ]
  },
  {
   "cell_type": "code",
   "execution_count": 10,
   "metadata": {},
   "outputs": [
    {
     "data": {
      "text/plain": [
       "0.67925"
      ]
     },
     "execution_count": 10,
     "metadata": {},
     "output_type": "execute_result"
    }
   ],
   "source": [
    "from sklearn.metrics import accuracy_score\n",
    "accuracy = accuracy_score(y_test,y_pred)\n",
    "accuracy"
   ]
  },
  {
   "cell_type": "code",
   "execution_count": 11,
   "metadata": {},
   "outputs": [
    {
     "data": {
      "text/plain": [
       "RandomForestClassifier()"
      ]
     },
     "execution_count": 11,
     "metadata": {},
     "output_type": "execute_result"
    }
   ],
   "source": [
    "from sklearn.ensemble import RandomForestClassifier\n",
    "rf = RandomForestClassifier()\n",
    "rf.fit(X_train,y_train)"
   ]
  },
  {
   "cell_type": "code",
   "execution_count": 12,
   "metadata": {},
   "outputs": [],
   "source": [
    "y_pred_rf = rf.predict(X_test)"
   ]
  },
  {
   "cell_type": "code",
   "execution_count": 13,
   "metadata": {},
   "outputs": [
    {
     "data": {
      "text/plain": [
       "0.67925"
      ]
     },
     "execution_count": 13,
     "metadata": {},
     "output_type": "execute_result"
    }
   ],
   "source": [
    "accuracy = accuracy_score(y_test,y_pred_rf)\n",
    "accuracy"
   ]
  }
 ],
 "metadata": {
  "kernelspec": {
   "display_name": "Python 3",
   "language": "python",
   "name": "python3"
  },
  "language_info": {
   "codemirror_mode": {
    "name": "ipython",
    "version": 3
   },
   "file_extension": ".py",
   "mimetype": "text/x-python",
   "name": "python",
   "nbconvert_exporter": "python",
   "pygments_lexer": "ipython3",
   "version": "3.8.5"
  }
 },
 "nbformat": 4,
 "nbformat_minor": 4
}
